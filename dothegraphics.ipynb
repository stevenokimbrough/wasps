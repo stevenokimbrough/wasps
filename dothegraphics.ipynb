{
 "cells": [
  {
   "cell_type": "markdown",
   "metadata": {},
   "source": [
    "# Notebook for Generating Graphics for the Paper\n",
    "\n",
    "We used this file to generate the graphics for the paper. Because placement of legends, etc.\n",
    "needs to vary so much, depending on how the data comes out, there can't be a\n",
    "universal procedure. So we simply edit this file as needed to produce the plots.\n",
    "\n",
    "Checked and cleaned up a bit by SOK on 2017-09-06."
   ]
  },
  {
   "cell_type": "code",
   "execution_count": null,
   "metadata": {},
   "outputs": [],
   "source": [
    "import os\n",
    "import pandas as pd\n",
    "import matplotlib.pyplot as plt\n",
    "%matplotlib inline"
   ]
  },
  {
   "cell_type": "code",
   "execution_count": null,
   "metadata": {},
   "outputs": [],
   "source": [
    "pwd"
   ]
  },
  {
   "cell_type": "code",
   "execution_count": null,
   "metadata": {},
   "outputs": [],
   "source": [
    "print(os.listdir())"
   ]
  },
  {
   "cell_type": "code",
   "execution_count": null,
   "metadata": {},
   "outputs": [],
   "source": [
    "theSpot = '../outputs/' + 'Run2017-01-10singlecaste2017-01-11 11:18:58.752406'\n",
    "#'Run2017-01-10singlecaste2017-01-11 10:55:34.006462'\n",
    "#'Run2017-01-10singlecaste2017-01-10 12:24:23.223554'\n",
    "#'Run2016-09-12'\n",
    "\n",
    "print(os.getcwd())\n",
    "os.chdir(theSpot)\n",
    "print(os.getcwd())\n",
    "print(os.listdir())"
   ]
  },
  {
   "cell_type": "markdown",
   "metadata": {},
   "source": [
    "### Initialize\n",
    "\n",
    "Assumes that we have above set the path, the cwd, to the directory that\n",
    "holds RunDataMulti and Graphics. We'll read from RunDataMulti and write \n",
    "to Graphics."
   ]
  },
  {
   "cell_type": "code",
   "execution_count": null,
   "metadata": {},
   "outputs": [],
   "source": [
    "pathToRunData = 'RunDataMulti'\n",
    "outputFolder =  'Graphics'\n",
    "\n",
    "if not os.path.isdir(outputFolder):\n",
    "    os.mkdir(outputFolder)\n",
    "\n",
    "# These are the parameter values we swept in generating the\n",
    "# output files.\n",
    "aggressionRes= [0.5] #[0.4,0.3,0.1] #[1.0, 0.95, 0.9, 0.85]\n",
    "metCostFactors=[0.5] #[0.4,0.3,0.1] #[1.0, 0.95, 0.9, 0.85]\n",
    "resourceHonestAppropriations=[0.5] #[0.4,0.3,0.1] #[1.0, 0.95, 0.9, 0.85]\n",
    "resourceDisHonestAppropriations=[0.5] #[0.4,0.3,0.1] #[1.0, 0.95, 0.9, 0.85]\n",
    "\n",
    "#### end of data to be entgered by hand.\n",
    "id0name = \"Aggression Resources\"\n",
    "id1name= \"Metabolic Cost Factors\"\n",
    "id2name = \"Appropriations from Honest Wasps\"\n",
    "id3name =  \"Appropriations from Dishonest Wasps\"\n",
    "\n",
    "numberOfRuns = len(aggressionRes)*len(metCostFactors)*\\\n",
    "    len(resourceHonestAppropriations)*len(resourceDisHonestAppropriations)\n",
    "print(numberOfRuns)"
   ]
  },
  {
   "cell_type": "code",
   "execution_count": null,
   "metadata": {},
   "outputs": [],
   "source": [
    "def makeExperimentParameterDict():\n",
    "    '''\n",
    "    Allows us to recover the parameter values used for the\n",
    "    the experiment number, which is displayed on the\n",
    "    input file, the .csv file in RunDataMulti.\n",
    "    \n",
    "    Creates a dictionary in which the keys are the\n",
    "    experiment numbers, starting with 0, and the\n",
    "    values are the parameter settings used, in a \n",
    "    4-tuple. i0 = aggressionRes. Initial resources allotted\n",
    "    per castes. These numbers reduce initial values by\n",
    "    percentages.\n",
    "    i1 = metCostFactors. Metabolic cost factors, how \n",
    "    expensive it is to run away. These numbers start at\n",
    "    1 and decline. The three castes have different initial\n",
    "    resources. Metabolic costs are figured as percentages.\n",
    "    These numbers reduce the initial levels by a percentage.\n",
    "    So, it becomes cheaper to run away.\n",
    "    i2 = resourceHonestAppropriations. How much you\n",
    "    collect from honest wasps when they lose. Again, these numbers\n",
    "    reudce by a percentage the program initial values.\n",
    "    i3 = resourceDisHonestAppropriations. i2 but from liars.\n",
    "    *********** ==>>\n",
    "    So, the output is like this: A diction with keys: exeriment numbers 0-255,\n",
    "    and values: 4-tuples of parameter values, as described above.\n",
    "    <<==*************\n",
    "    '''\n",
    "    toReturn = {}\n",
    "    experimentnumber = 0\n",
    "    for i0 in aggressionRes:\n",
    "        for i1 in metCostFactors:\n",
    "            for i2 in resourceHonestAppropriations:\n",
    "                for i3 in resourceDisHonestAppropriations:\n",
    "                    toReturn[experimentnumber] = (i0,i1,i2,i3)\n",
    "                    experimentnumber += 1\n",
    "    return toReturn\n",
    "experimetParameterDict = makeExperimentParameterDict()\n",
    "# ok, works\n",
    "# print(experimetParameterDict)"
   ]
  },
  {
   "cell_type": "code",
   "execution_count": null,
   "metadata": {
    "collapsed": true
   },
   "outputs": [],
   "source": [
    "def processFileList(fileList,plotVariable,parameterValues,experimentNumber):\n",
    "    '''\n",
    "    We extract the say 30 replication files from the repositoryin main() \n",
    "    below. Here we get the list and we make a DataFrame of each file.\n",
    "    Then we process each DataFrame to get a graph.\n",
    "    \n",
    "    2016-08-27 sok: cleaned up this procedure to eliminate the\n",
    "    problem of having many open graphics files.\n",
    "    '''\n",
    "    dfs = []\n",
    "    for fileName in fileList:\n",
    "        df = pd.read_csv(pathToRunData + os.sep + fileName)\n",
    "        dfs.append(df)\n",
    "    # Get the mean:\n",
    "    accum = 0\n",
    "    for df in dfs:\n",
    "        accum += df[plotVariable]\n",
    "    damean = accum/len(dfs)\n",
    "        \n",
    "    #print(plotVariable)\n",
    "    plt.figure()\n",
    "    plt.title(\"Experiment number = %d, Variable = %s, replications = %d.\" % (experimentNumber,plotVariable,len(dfs)))\n",
    "        \n",
    "    for df in dfs:\n",
    "        #print(df.head())\n",
    "        #plt.figure()\n",
    "        #plt.title(\"Experiment number = %d, Variable = %s, replications = %d.\" % (experimentNumber,plotVariable,len(dfs)))\n",
    "        plt.plot(df[plotVariable],'k',color = '0.75')\n",
    "         \n",
    "    # Now do the mean:\n",
    "    plt.plot(damean,'k')\n",
    "    plt.xlabel(\"Tick value (sampled every 1,000).\")\n",
    "    plt.ylabel(\"Wasp count in caste.\")\n",
    "    toPrint = id0name+' = '+str(parameterValues[0])+'\\n'\n",
    "    toPrint += id1name+' = '+str(parameterValues[1])+'\\n'\n",
    "    toPrint += id2name+' = '+str(parameterValues[2])+'\\n'\n",
    "    toPrint += id3name+' = '+str(parameterValues[3])\n",
    "    plt.text(400,700,toPrint)\n",
    "    # plt.show() The kernel dies when this is in.\n",
    "    plt.savefig(outputFolder + os.sep + 'ExNum_'+str(experimentNumber)+ '_' + plotVariable + '_' + str(len(dfs)) + '_replications.pdf')\n",
    "    # sok added 2016-05-09 in order to avoid having open lots of figures:\n",
    "    plt.close()"
   ]
  },
  {
   "cell_type": "code",
   "execution_count": null,
   "metadata": {
    "collapsed": true
   },
   "outputs": [],
   "source": [
    "def processFileListTest(fileList,plotVariable,parameterValues,experimentNumber):\n",
    "    '''\n",
    "    We extract the say 30 replication files from the repositoryin main() \n",
    "    below. Here we get the list and we make a DataFrame of each file.\n",
    "    Then we process each DataFrame to get a graph.\n",
    "    '''\n",
    "    #print('Entering processFileListList')\n",
    "    #print('fileList: ',fileList)\n",
    "    #print('plotVariable: ',plotVariable)\n",
    "    #print('parameterValues: ', parameterValues)\n",
    "    #print('experimentNumber: ',experimentNumber)\n",
    "    dfs = []\n",
    "    for fileName in fileList:\n",
    "        df = pd.read_csv(pathToRunData + os.sep + fileName)\n",
    "        #print(daPath)\n",
    "        #df = pd.read_csv(daPath)\n",
    "        dfs.append(df)\n",
    "    return dfs"
   ]
  },
  {
   "cell_type": "code",
   "execution_count": null,
   "metadata": {},
   "outputs": [],
   "source": [
    "df = pd.read_csv(pathToRunData + os.sep +'runDataLong0-0.csv')\n",
    "df.head()"
   ]
  },
  {
   "cell_type": "code",
   "execution_count": null,
   "metadata": {
    "collapsed": true
   },
   "outputs": [],
   "source": [
    "def main(parameterList,experimentNumberList):\n",
    "    exdict = makeExperimentParameterDict()\n",
    "\n",
    "    for exnum in range(len(experimentNumberList)):\n",
    "        experimentNumber = experimentNumberList[exnum]\n",
    "        parameterValues = exdict[experimentNumber]\n",
    "        \n",
    "        fileList = os.listdir(pathToRunData)\n",
    "        pattern = 'runDataLong' + str(experimentNumber) + '-'\n",
    "        ourFiles = [x for x in fileList if pattern in x]\n",
    "        for plotVariable in parameterList:\n",
    "            processFileList(ourFiles,plotVariable,parameterValues,experimentNumber)\n",
    "    return parameterValues "
   ]
  },
  {
   "cell_type": "code",
   "execution_count": null,
   "metadata": {
    "collapsed": true
   },
   "outputs": [],
   "source": [
    "def mainTest(parameterList,experimentNumberList):\n",
    "    '''\n",
    "    parameterList is the first argument passed to main[Test] It\n",
    "    is a list of the quantities we want graphed for each\n",
    "    experiment in experimentNumberList.\n",
    "    '''\n",
    "    exdict = makeExperimentParameterDict()\n",
    "    \n",
    "    for exnumIdx in range(len(experimentNumberList)):\n",
    "        # experimentNumber is the ID of the experiment we are\n",
    "        # interested in.\n",
    "        experimentNumber = experimentNumberList[exnumIdx]\n",
    "        # Here are the values from its parameter list from the dictionary.\n",
    "        parameterValues = exdict[experimentNumber]\n",
    "        # OK, (1.0, 1.0, 1.0, 0.95) etc.\n",
    "        #print('parameterValues: ',parameterValues)\n",
    "        fileList = os.listdir(pathToRunData)\n",
    "        pattern = 'runDataLong' + str(experimentNumber) + '-'\n",
    "        ourFiles = [x for x in fileList if pattern in x]\n",
    "        # OK, works: \n",
    "        #print(ourFiles)\n",
    "        # ourFiles is now a list of the n replicants for a given experiment, e.g.\n",
    "        # ['runDataLong0-0.csv', 'runDataLong0-1.csv', 'runDataLong0-2.csv', \n",
    "        #  'runDataLong0-3.csv', 'runDataLong0-4.csv']\n",
    "        dfsList = []\n",
    "        for plotVariable in parameterList:\n",
    "            # ourFiles: list of the n replicants for a given experiment\n",
    "            # plotVariable: member of the list passed as the first argument to main[Test]\n",
    "            # parameterValues: (1.0, 1.0, 1.0, 0.95) etc. for this experiment\n",
    "            # experimentNumber: 0, 1, etc.\n",
    "            dfs=processFileListTest(ourFiles,plotVariable,parameterValues,experimentNumber)\n",
    "            dfsList.append(dfs)\n",
    "    # dfsList now is a list of length len(parameterList) of DataFrames, one for each file\n",
    "    # processed.\n",
    "    return dfsList #parameterValues #ourFiles"
   ]
  },
  {
   "cell_type": "code",
   "execution_count": null,
   "metadata": {},
   "outputs": [],
   "source": [
    "def doit(numberOfRuns=2):\n",
    "    graphList = list(range(0,numberOfRuns)) \n",
    "    # graphList is a list of integers corresponding to the \n",
    "    # experiments we want graphed.\n",
    "    #print(graphList)\n",
    "    fullList = ['TotalLiars', \t'Caste_0_Liars',\t\n",
    "                'signal_0_0', 'signal_0_0_mean_res',\n",
    "                'signal_0_1', 'signal_0_1_mean_res', \n",
    "                'signal_0_2', 'signal_0_2_mean_res',\n",
    "                'signal_1_0', 'signal_1_0_mean_res',\n",
    "                'signal_1_1', 'signal_1_1_mean_res',\n",
    "                'signal_1_2', 'signal_1_2_mean_res',\n",
    "                'signal_2_0', 'signal_2_0_mean_res',\n",
    "                'signal_2_1', 'signal_2_1_mean_res',\n",
    "                'signal_2_2', 'signal_2_2_mean_res'\n",
    "                ]\n",
    "    returned = main(['Caste_2_Liars','Caste_1_Liars','Caste_0_Liars'],graphList)\n",
    "    # returned is a list of length of the first argument to main[Test], that is,\n",
    "    # the quantities we want graphed.\n",
    "    return returned\n"
   ]
  },
  {
   "cell_type": "code",
   "execution_count": null,
   "metadata": {},
   "outputs": [],
   "source": [
    "if __name__ == '__main__':\n",
    "    x = numberOfRuns\n",
    "    returned = doit(numberOfRuns=x)"
   ]
  }
 ],
 "metadata": {
  "anaconda-cloud": {},
  "kernelspec": {
   "display_name": "Python 3",
   "language": "python",
   "name": "python3"
  },
  "language_info": {
   "codemirror_mode": {
    "name": "ipython",
    "version": 3
   },
   "file_extension": ".py",
   "mimetype": "text/x-python",
   "name": "python",
   "nbconvert_exporter": "python",
   "pygments_lexer": "ipython3",
   "version": "3.6.1"
  }
 },
 "nbformat": 4,
 "nbformat_minor": 1
}
